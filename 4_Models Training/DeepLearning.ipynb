{
  "nbformat": 4,
  "nbformat_minor": 0,
  "metadata": {
    "colab": {
      "name": "DeepLearning.ipynb",
      "provenance": [],
      "collapsed_sections": [],
      "authorship_tag": "ABX9TyN9xFgvqczFKW0NmssHAmyc"
    },
    "kernelspec": {
      "name": "python3",
      "display_name": "Python 3"
    },
    "language_info": {
      "name": "python"
    }
  },
  "cells": [
    {
      "cell_type": "code",
      "execution_count": 17,
      "metadata": {
        "id": "n00JSqKeQSZA"
      },
      "outputs": [],
      "source": [
        "import pandas as pd\n",
        "import numpy as np\n",
        "import tensorflow as tf\n",
        "from tensorflow import keras\n",
        "from numpy import array\n",
        "from keras.preprocessing.text import one_hot , Tokenizer\n",
        "from keras.preprocessing.sequence import pad_sequences\n",
        "from keras.models import Sequential\n",
        "from keras.layers import Dense , LSTM , Dropout , SpatialDropout1D \n",
        "from keras.layers import Embedding\n",
        "from keras.callbacks import EarlyStopping , ModelCheckpoint\n",
        "from sklearn.model_selection import train_test_split"
      ]
    },
    {
      "cell_type": "code",
      "source": [
        "df= pd.read_csv('preprocessed_df.csv').drop('Unnamed: 0',axis = 1)\n",
        "df"
      ],
      "metadata": {
        "colab": {
          "base_uri": "https://localhost:8080/",
          "height": 424
        },
        "id": "YZpHa33nRRSr",
        "outputId": "23f2a102-7f85-4761-856d-73ae5a9e5144"
      },
      "execution_count": 18,
      "outputs": [
        {
          "output_type": "execute_result",
          "data": {
            "text/plain": [
              "                                              Final_text Category\n",
              "0      lebanese artist haig aivazians video installat...      Art\n",
              "1      cairo palace art gear 32nd youth salon 32nd ed...      Art\n",
              "2      weaam elmasry mohamed shoukry ahmed elshaer re...      Art\n",
              "3      former egyptian culture minister farouk hosny ...      Art\n",
              "4      orient early 20th century exhibited photograph...      Art\n",
              "...                                                  ...      ...\n",
              "30003           ronaldo strike juventus brush spal aside    Sport\n",
              "30004  toothless manchester united held 00 home draw ...    Sport\n",
              "30005           manchester city stay top 40 win west ham    Sport\n",
              "30006          alcacer score dortmund edge past mainz 21    Sport\n",
              "30007  dusseldorf stun bayern munich stoppagetime equ...    Sport\n",
              "\n",
              "[30008 rows x 2 columns]"
            ],
            "text/html": [
              "\n",
              "  <div id=\"df-415b7707-ffc0-4210-92ac-59493141a666\">\n",
              "    <div class=\"colab-df-container\">\n",
              "      <div>\n",
              "<style scoped>\n",
              "    .dataframe tbody tr th:only-of-type {\n",
              "        vertical-align: middle;\n",
              "    }\n",
              "\n",
              "    .dataframe tbody tr th {\n",
              "        vertical-align: top;\n",
              "    }\n",
              "\n",
              "    .dataframe thead th {\n",
              "        text-align: right;\n",
              "    }\n",
              "</style>\n",
              "<table border=\"1\" class=\"dataframe\">\n",
              "  <thead>\n",
              "    <tr style=\"text-align: right;\">\n",
              "      <th></th>\n",
              "      <th>Final_text</th>\n",
              "      <th>Category</th>\n",
              "    </tr>\n",
              "  </thead>\n",
              "  <tbody>\n",
              "    <tr>\n",
              "      <th>0</th>\n",
              "      <td>lebanese artist haig aivazians video installat...</td>\n",
              "      <td>Art</td>\n",
              "    </tr>\n",
              "    <tr>\n",
              "      <th>1</th>\n",
              "      <td>cairo palace art gear 32nd youth salon 32nd ed...</td>\n",
              "      <td>Art</td>\n",
              "    </tr>\n",
              "    <tr>\n",
              "      <th>2</th>\n",
              "      <td>weaam elmasry mohamed shoukry ahmed elshaer re...</td>\n",
              "      <td>Art</td>\n",
              "    </tr>\n",
              "    <tr>\n",
              "      <th>3</th>\n",
              "      <td>former egyptian culture minister farouk hosny ...</td>\n",
              "      <td>Art</td>\n",
              "    </tr>\n",
              "    <tr>\n",
              "      <th>4</th>\n",
              "      <td>orient early 20th century exhibited photograph...</td>\n",
              "      <td>Art</td>\n",
              "    </tr>\n",
              "    <tr>\n",
              "      <th>...</th>\n",
              "      <td>...</td>\n",
              "      <td>...</td>\n",
              "    </tr>\n",
              "    <tr>\n",
              "      <th>30003</th>\n",
              "      <td>ronaldo strike juventus brush spal aside</td>\n",
              "      <td>Sport</td>\n",
              "    </tr>\n",
              "    <tr>\n",
              "      <th>30004</th>\n",
              "      <td>toothless manchester united held 00 home draw ...</td>\n",
              "      <td>Sport</td>\n",
              "    </tr>\n",
              "    <tr>\n",
              "      <th>30005</th>\n",
              "      <td>manchester city stay top 40 win west ham</td>\n",
              "      <td>Sport</td>\n",
              "    </tr>\n",
              "    <tr>\n",
              "      <th>30006</th>\n",
              "      <td>alcacer score dortmund edge past mainz 21</td>\n",
              "      <td>Sport</td>\n",
              "    </tr>\n",
              "    <tr>\n",
              "      <th>30007</th>\n",
              "      <td>dusseldorf stun bayern munich stoppagetime equ...</td>\n",
              "      <td>Sport</td>\n",
              "    </tr>\n",
              "  </tbody>\n",
              "</table>\n",
              "<p>30008 rows × 2 columns</p>\n",
              "</div>\n",
              "      <button class=\"colab-df-convert\" onclick=\"convertToInteractive('df-415b7707-ffc0-4210-92ac-59493141a666')\"\n",
              "              title=\"Convert this dataframe to an interactive table.\"\n",
              "              style=\"display:none;\">\n",
              "        \n",
              "  <svg xmlns=\"http://www.w3.org/2000/svg\" height=\"24px\"viewBox=\"0 0 24 24\"\n",
              "       width=\"24px\">\n",
              "    <path d=\"M0 0h24v24H0V0z\" fill=\"none\"/>\n",
              "    <path d=\"M18.56 5.44l.94 2.06.94-2.06 2.06-.94-2.06-.94-.94-2.06-.94 2.06-2.06.94zm-11 1L8.5 8.5l.94-2.06 2.06-.94-2.06-.94L8.5 2.5l-.94 2.06-2.06.94zm10 10l.94 2.06.94-2.06 2.06-.94-2.06-.94-.94-2.06-.94 2.06-2.06.94z\"/><path d=\"M17.41 7.96l-1.37-1.37c-.4-.4-.92-.59-1.43-.59-.52 0-1.04.2-1.43.59L10.3 9.45l-7.72 7.72c-.78.78-.78 2.05 0 2.83L4 21.41c.39.39.9.59 1.41.59.51 0 1.02-.2 1.41-.59l7.78-7.78 2.81-2.81c.8-.78.8-2.07 0-2.86zM5.41 20L4 18.59l7.72-7.72 1.47 1.35L5.41 20z\"/>\n",
              "  </svg>\n",
              "      </button>\n",
              "      \n",
              "  <style>\n",
              "    .colab-df-container {\n",
              "      display:flex;\n",
              "      flex-wrap:wrap;\n",
              "      gap: 12px;\n",
              "    }\n",
              "\n",
              "    .colab-df-convert {\n",
              "      background-color: #E8F0FE;\n",
              "      border: none;\n",
              "      border-radius: 50%;\n",
              "      cursor: pointer;\n",
              "      display: none;\n",
              "      fill: #1967D2;\n",
              "      height: 32px;\n",
              "      padding: 0 0 0 0;\n",
              "      width: 32px;\n",
              "    }\n",
              "\n",
              "    .colab-df-convert:hover {\n",
              "      background-color: #E2EBFA;\n",
              "      box-shadow: 0px 1px 2px rgba(60, 64, 67, 0.3), 0px 1px 3px 1px rgba(60, 64, 67, 0.15);\n",
              "      fill: #174EA6;\n",
              "    }\n",
              "\n",
              "    [theme=dark] .colab-df-convert {\n",
              "      background-color: #3B4455;\n",
              "      fill: #D2E3FC;\n",
              "    }\n",
              "\n",
              "    [theme=dark] .colab-df-convert:hover {\n",
              "      background-color: #434B5C;\n",
              "      box-shadow: 0px 1px 3px 1px rgba(0, 0, 0, 0.15);\n",
              "      filter: drop-shadow(0px 1px 2px rgba(0, 0, 0, 0.3));\n",
              "      fill: #FFFFFF;\n",
              "    }\n",
              "  </style>\n",
              "\n",
              "      <script>\n",
              "        const buttonEl =\n",
              "          document.querySelector('#df-415b7707-ffc0-4210-92ac-59493141a666 button.colab-df-convert');\n",
              "        buttonEl.style.display =\n",
              "          google.colab.kernel.accessAllowed ? 'block' : 'none';\n",
              "\n",
              "        async function convertToInteractive(key) {\n",
              "          const element = document.querySelector('#df-415b7707-ffc0-4210-92ac-59493141a666');\n",
              "          const dataTable =\n",
              "            await google.colab.kernel.invokeFunction('convertToInteractive',\n",
              "                                                     [key], {});\n",
              "          if (!dataTable) return;\n",
              "\n",
              "          const docLinkHtml = 'Like what you see? Visit the ' +\n",
              "            '<a target=\"_blank\" href=https://colab.research.google.com/notebooks/data_table.ipynb>data table notebook</a>'\n",
              "            + ' to learn more about interactive tables.';\n",
              "          element.innerHTML = '';\n",
              "          dataTable['output_type'] = 'display_data';\n",
              "          await google.colab.output.renderOutput(dataTable, element);\n",
              "          const docLink = document.createElement('div');\n",
              "          docLink.innerHTML = docLinkHtml;\n",
              "          element.appendChild(docLink);\n",
              "        }\n",
              "      </script>\n",
              "    </div>\n",
              "  </div>\n",
              "  "
            ]
          },
          "metadata": {},
          "execution_count": 18
        }
      ]
    },
    {
      "cell_type": "code",
      "source": [
        "epochs = 10\n",
        "emb_dim = 100\n",
        "batch_size = 256\n",
        "n_most_common_words = 80000\n",
        "max_len = 250\n",
        "\n",
        "tokenizer = Tokenizer(num_words=n_most_common_words,lower = True)\n",
        "tokenizer.fit_on_texts(df['Final_text'].values)\n",
        "\n",
        "word_index = tokenizer.word_index\n",
        "print(\"Unique Tokens are:\",len(word_index))"
      ],
      "metadata": {
        "colab": {
          "base_uri": "https://localhost:8080/"
        },
        "id": "y8THR5bDUO1V",
        "outputId": "f8d43280-f192-46e1-a82f-f91540dc8d3d"
      },
      "execution_count": 19,
      "outputs": [
        {
          "output_type": "stream",
          "name": "stdout",
          "text": [
            "Unique Tokens are: 28943\n"
          ]
        }
      ]
    },
    {
      "cell_type": "code",
      "source": [
        "X = tokenizer.texts_to_sequences(df['Final_text'].values)\n",
        "X = pad_sequences(X , maxlen=max_len)\n",
        "print(\"Shape of data tensor\",X.shape)"
      ],
      "metadata": {
        "colab": {
          "base_uri": "https://localhost:8080/"
        },
        "id": "VasPgEK2UhZp",
        "outputId": "63ea9e10-c9ec-4b83-a77c-c563870d725c"
      },
      "execution_count": 20,
      "outputs": [
        {
          "output_type": "stream",
          "name": "stdout",
          "text": [
            "Shape of data tensor (30008, 250)\n"
          ]
        }
      ]
    },
    {
      "cell_type": "code",
      "source": [
        "Y = pd.get_dummies(df['Category']).values\n",
        "print(\"Shape of label tensor\",Y.shape)"
      ],
      "metadata": {
        "colab": {
          "base_uri": "https://localhost:8080/"
        },
        "id": "-gRpcn5UUjqK",
        "outputId": "249bec81-55a6-45ab-b0dc-e91e42b77489"
      },
      "execution_count": 21,
      "outputs": [
        {
          "output_type": "stream",
          "name": "stdout",
          "text": [
            "Shape of label tensor (30008, 3)\n"
          ]
        }
      ]
    },
    {
      "cell_type": "code",
      "source": [
        "X_train, X_test, y_train, y_test = train_test_split(X, Y, test_size= 0.1 , random_state=42 ,shuffle=True)\n",
        "print(X_train.shape, X_test.shape, y_train.shape, y_test.shape)"
      ],
      "metadata": {
        "colab": {
          "base_uri": "https://localhost:8080/"
        },
        "id": "_oltq6ovUnAp",
        "outputId": "6158c11c-ceff-4eaf-d360-eeaf2508f282"
      },
      "execution_count": 22,
      "outputs": [
        {
          "output_type": "stream",
          "name": "stdout",
          "text": [
            "(27007, 250) (3001, 250) (27007, 3) (3001, 3)\n"
          ]
        }
      ]
    },
    {
      "cell_type": "code",
      "source": [
        "model = Sequential()\n",
        "model.add(Embedding(n_most_common_words+1,emb_dim,input_length=X.shape[1]))\n",
        "model.add(SpatialDropout1D(0.4))\n",
        "model.add(LSTM(100,dropout=0.2,recurrent_dropout=0.2))\n",
        "model.add(Dense(3,activation='softmax'))\n",
        "model.compile(loss='categorical_crossentropy' , optimizer='adam' ,metrics=['accuracy'])\n",
        "print(model.summary())"
      ],
      "metadata": {
        "colab": {
          "base_uri": "https://localhost:8080/"
        },
        "id": "-uNYQgkeUtOI",
        "outputId": "ec73dbfd-8a20-44fe-9ee5-6857910731c9"
      },
      "execution_count": 23,
      "outputs": [
        {
          "output_type": "stream",
          "name": "stdout",
          "text": [
            "Model: \"sequential_1\"\n",
            "_________________________________________________________________\n",
            " Layer (type)                Output Shape              Param #   \n",
            "=================================================================\n",
            " embedding_1 (Embedding)     (None, 250, 100)          8000100   \n",
            "                                                                 \n",
            " spatial_dropout1d_1 (Spatia  (None, 250, 100)         0         \n",
            " lDropout1D)                                                     \n",
            "                                                                 \n",
            " lstm_1 (LSTM)               (None, 100)               80400     \n",
            "                                                                 \n",
            " dense_1 (Dense)             (None, 3)                 303       \n",
            "                                                                 \n",
            "=================================================================\n",
            "Total params: 8,080,803\n",
            "Trainable params: 8,080,803\n",
            "Non-trainable params: 0\n",
            "_________________________________________________________________\n",
            "None\n"
          ]
        }
      ]
    },
    {
      "cell_type": "code",
      "source": [
        "my_callbacks=[  EarlyStopping(monitor = 'val_loss',min_delta = 0,patience = 2,verbose = 1,restore_best_weights = True) ,\n",
        "                ModelCheckpoint(filepath='model.{epoch:02d}-{val_loss:.2f}.h5',monitor='val_loss',mode='min',save_best_only=True,verbose=1)  ]"
      ],
      "metadata": {
        "id": "TV6qKyudUuZ7"
      },
      "execution_count": 24,
      "outputs": []
    },
    {
      "cell_type": "code",
      "source": [
        "history = model.fit(X_train,y_train,validation_data=(X_test,y_test),epochs=5,batch_size=128, callbacks=my_callbacks)\n"
      ],
      "metadata": {
        "colab": {
          "base_uri": "https://localhost:8080/"
        },
        "id": "XD9IkvLXUx4K",
        "outputId": "07511b36-9f68-48a9-e7d7-93796374d0ca"
      },
      "execution_count": 25,
      "outputs": [
        {
          "output_type": "stream",
          "name": "stdout",
          "text": [
            "Epoch 1/5\n",
            "211/211 [==============================] - ETA: 0s - loss: 0.2616 - accuracy: 0.8924\n",
            "Epoch 1: val_loss improved from inf to 0.04795, saving model to model.01-0.05.h5\n",
            "211/211 [==============================] - 251s 1s/step - loss: 0.2616 - accuracy: 0.8924 - val_loss: 0.0479 - val_accuracy: 0.9863\n",
            "Epoch 2/5\n",
            "211/211 [==============================] - ETA: 0s - loss: 0.0251 - accuracy: 0.9929\n",
            "Epoch 2: val_loss improved from 0.04795 to 0.03129, saving model to model.02-0.03.h5\n",
            "211/211 [==============================] - 247s 1s/step - loss: 0.0251 - accuracy: 0.9929 - val_loss: 0.0313 - val_accuracy: 0.9897\n",
            "Epoch 3/5\n",
            "211/211 [==============================] - ETA: 0s - loss: 0.0053 - accuracy: 0.9988\n",
            "Epoch 3: val_loss did not improve from 0.03129\n",
            "211/211 [==============================] - 243s 1s/step - loss: 0.0053 - accuracy: 0.9988 - val_loss: 0.0316 - val_accuracy: 0.9880\n",
            "Epoch 4/5\n",
            "211/211 [==============================] - ETA: 0s - loss: 0.0024 - accuracy: 0.9995Restoring model weights from the end of the best epoch: 2.\n",
            "\n",
            "Epoch 4: val_loss did not improve from 0.03129\n",
            "211/211 [==============================] - 242s 1s/step - loss: 0.0024 - accuracy: 0.9995 - val_loss: 0.0356 - val_accuracy: 0.9907\n",
            "Epoch 4: early stopping\n"
          ]
        }
      ]
    },
    {
      "cell_type": "code",
      "source": [
        "import matplotlib.pyplot as plt\n",
        "model_history = pd.DataFrame(history.history)\n",
        "model_history['epoch'] = history.epoch\n",
        "\n",
        "fig ,ax = plt.subplots(1 , figsize = (6,4))\n",
        "num_epochs = model_history.shape[0]\n",
        "ax.plot(np.arange(0 , num_epochs) , model_history['accuracy'] , label ='Training ADAM')\n",
        "ax.plot(np.arange(0 , num_epochs) , model_history['val_accuracy'] , label = 'Validation ADAM')\n",
        "ax.legend()\n",
        "\n",
        "plt.tight_layout()\n",
        "plt.show()"
      ],
      "metadata": {
        "colab": {
          "base_uri": "https://localhost:8080/",
          "height": 297
        },
        "id": "mVCVXivPUzhR",
        "outputId": "e242bf23-0232-4e39-d31b-c90618f4a766"
      },
      "execution_count": 26,
      "outputs": [
        {
          "output_type": "display_data",
          "data": {
            "text/plain": [
              "<Figure size 432x288 with 1 Axes>"
            ],
            "image/png": "[encoded data removed]"
          },
          "metadata": {
            "needs_background": "light"
          }
        }
      ]
    },
    {
      "cell_type": "code",
      "source": [
        "fig , ax = plt.subplots(1 ,figsize = (6,4))\n",
        "num_epochs = model_history.shape[0]\n",
        "ax.plot(np.arange(0 ,num_epochs ) , model_history['loss'] , label = 'Training Loss')\n",
        "ax.plot(np.arange(0 , num_epochs) , model_history['val_loss'], label='Validation Loss')\n",
        "ax.legend()\n",
        "plt.tight_layout()\n",
        "plt.show()"
      ],
      "metadata": {
        "colab": {
          "base_uri": "https://localhost:8080/",
          "height": 297
        },
        "id": "kyqkRl-VYn0s",
        "outputId": "d43104a3-0baf-4220-e44b-25f7a032b64f"
      },
      "execution_count": 27,
      "outputs": [
        {
          "output_type": "display_data",
          "data": {
            "text/plain": [
              "<Figure size 432x288 with 1 Axes>"
            ],
            "image/png": "[encoded data removed]"
          },
          "metadata": {
            "needs_background": "light"
          }
        }
      ]
    },
    {
      "cell_type": "code",
      "source": [
        "acc = model.evaluate(X_test,y_test)\n",
        "print(\"Test set \\n loss: {:0.3f}\\n Accuracy: {:0.3f}\".format(acc[0],acc[1]))"
      ],
      "metadata": {
        "colab": {
          "base_uri": "https://localhost:8080/"
        },
        "id": "io4PJWEnYpOk",
        "outputId": "607ecf85-f5c5-4620-abd3-20121eba3f35"
      },
      "execution_count": 28,
      "outputs": [
        {
          "output_type": "stream",
          "name": "stdout",
          "text": [
            "94/94 [==============================] - 6s 68ms/step - loss: 0.0313 - accuracy: 0.9897\n",
            "Test set \n",
            " loss: 0.031\n",
            " Accuracy: 0.990\n"
          ]
        }
      ]
    },
    {
      "cell_type": "code",
      "source": [
        "input_test = [\"Liverpool roll over Villarreal to put one foot in Champions League final\"]\n",
        "\n",
        "seq = tokenizer.texts_to_sequences(input_test)\n",
        "padded = pad_sequences(seq , maxlen= max_len)\n",
        "pred = model.predict(padded)\n",
        "labels = [\"Art\" , \"Economy\" , \"Sports\"]\n",
        "\n",
        "print(pred , labels[np.argmax(pred)])"
      ],
      "metadata": {
        "colab": {
          "base_uri": "https://localhost:8080/"
        },
        "id": "ihk2eRgWcUVi",
        "outputId": "8aa983b0-6487-49dd-a219-9226f5dd12d1"
      },
      "execution_count": 29,
      "outputs": [
        {
          "output_type": "stream",
          "name": "stdout",
          "text": [
            "[[1.5497301e-04 2.6242809e-05 9.9981886e-01]] Sports\n"
          ]
        }
      ]
    },
    {
      "cell_type": "code",
      "source": [
        ""
      ],
      "metadata": {
        "id": "2Wq1Sp6Fcyg8"
      },
      "execution_count": null,
      "outputs": []
    },
    {
      "cell_type": "markdown",
      "source": [
        ""
      ],
      "metadata": {
        "id": "vxv1yiDUdz1p"
      }
    }
  ]
}