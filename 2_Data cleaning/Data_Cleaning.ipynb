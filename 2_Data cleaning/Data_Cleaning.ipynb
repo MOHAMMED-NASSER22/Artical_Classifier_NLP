{
 "cells": [
  {
   "cell_type": "code",
   "execution_count": 1,
   "id": "b9d5e72b",
   "metadata": {
    "scrolled": true
   },
   "outputs": [
    {
     "name": "stderr",
     "output_type": "stream",
     "text": [
      "C:\\Users\\Mohammed\\AppData\\Local\\Temp/ipykernel_15220/464048112.py:3: FutureWarning: Passing a negative integer is deprecated in version 1.0 and will not be supported in future version. Instead, use None to not limit the column width.\n",
      "  pd.set_option('display.max_colwidth', -1)\n"
     ]
    }
   ],
   "source": [
    "import pandas as pd\n",
    "import numpy as np\n",
    "pd.set_option('display.max_colwidth', -1)"
   ]
  },
  {
   "cell_type": "markdown",
   "id": "29d76c1a",
   "metadata": {},
   "source": [
    "# Data_Cleaning"
   ]
  },
  {
   "cell_type": "code",
   "execution_count": 2,
   "id": "63630a1a",
   "metadata": {
    "scrolled": false
   },
   "outputs": [
    {
     "name": "stdout",
     "output_type": "stream",
     "text": [
      "(30053, 2)\n"
     ]
    }
   ],
   "source": [
    "# concatinating three files\n",
    "\n",
    "art= pd.read_csv('Art.csv')\n",
    "economy= pd.read_csv('Economy.csv')\n",
    "sports= pd.read_csv('Sport.csv')\n",
    "\n",
    "\n",
    "df = pd.concat([art,economy,sports],axis = 0 , ignore_index=True).drop('Unnamed: 0' , axis =1)\n",
    "print(df.shape)\n"
   ]
  },
  {
   "cell_type": "code",
   "execution_count": 3,
   "id": "cdb066ef",
   "metadata": {},
   "outputs": [
    {
     "data": {
      "text/html": [
       "<div>\n",
       "<style scoped>\n",
       "    .dataframe tbody tr th:only-of-type {\n",
       "        vertical-align: middle;\n",
       "    }\n",
       "\n",
       "    .dataframe tbody tr th {\n",
       "        vertical-align: top;\n",
       "    }\n",
       "\n",
       "    .dataframe thead th {\n",
       "        text-align: right;\n",
       "    }\n",
       "</style>\n",
       "<table border=\"1\" class=\"dataframe\">\n",
       "  <thead>\n",
       "    <tr style=\"text-align: right;\">\n",
       "      <th></th>\n",
       "      <th>Article Title</th>\n",
       "      <th>Category</th>\n",
       "    </tr>\n",
       "  </thead>\n",
       "  <tbody>\n",
       "    <tr>\n",
       "      <th>0</th>\n",
       "      <td>Lebanese artist Haig Aivazian's video installation to be presented during 72nd Berlin Int'l Film Festival\\n\\n\\n\\nThe video installation All of Your Stars are But Dust on My Shoes by the Lebanese artist will be presented within the Forum Expanded programme of the upcoming Berlinale.</td>\n",
       "      <td>Art</td>\n",
       "    </tr>\n",
       "    <tr>\n",
       "      <th>1</th>\n",
       "      <td>Cairo's Palace of Arts gears up for 32nd Youth Salon\\n\\n\\n\\n The 32nd edition of Youth Salon (Salon El-Shabab) will take place at the Palace of Arts located on the Cairo Opera House grounds.</td>\n",
       "      <td>Art</td>\n",
       "    </tr>\n",
       "    <tr>\n",
       "      <th>2</th>\n",
       "      <td>Weaam El-Masry, Mohamed Shoukry, Ahmed El-Shaer to represent Egypt at Venice Art Biennale 2022\\n\\n\\n\\n‘Eden Like Garden’ by Weaam Ahmed El-Masry, Mohamed Shoukry, and Ahmed El-Shaer will represent Egypt during the 59th International Art Exhibition ‘La Biennale di Venezia’</td>\n",
       "      <td>Art</td>\n",
       "    </tr>\n",
       "    <tr>\n",
       "      <th>3</th>\n",
       "      <td>Former Egyptian culture minister Farouk Hosny to hold solo exhibition at Bahrain National Museum\\n\\n\\n\\nFormer Egyptian culture minister Farouk Hosny will display 45 of his works created over the past two years during the upcoming solo exhibition at Bahrain National Museum.</td>\n",
       "      <td>Art</td>\n",
       "    </tr>\n",
       "    <tr>\n",
       "      <th>4</th>\n",
       "      <td>The Orient of the early 20th century exhibited as photographs in Paris\\n\\n\\n\\nThe Roger-Viollet gallery in Paris is exhibiting a collection of black and white panoramic photos belonging to the Léon and Lévy studios, revealing the Maghreb and Egypt at the beginning of the 20th century.</td>\n",
       "      <td>Art</td>\n",
       "    </tr>\n",
       "    <tr>\n",
       "      <th>...</th>\n",
       "      <td>...</td>\n",
       "      <td>...</td>\n",
       "    </tr>\n",
       "    <tr>\n",
       "      <th>30048</th>\n",
       "      <td>Ronaldo strikes again as Juventus brush SPAL aside</td>\n",
       "      <td>Sport</td>\n",
       "    </tr>\n",
       "    <tr>\n",
       "      <th>30049</th>\n",
       "      <td>Toothless Manchester United held to 0-0 home draw by Palace</td>\n",
       "      <td>Sport</td>\n",
       "    </tr>\n",
       "    <tr>\n",
       "      <th>30050</th>\n",
       "      <td>Manchester City stay top after 4-0 win at West Ham</td>\n",
       "      <td>Sport</td>\n",
       "    </tr>\n",
       "    <tr>\n",
       "      <th>30051</th>\n",
       "      <td>Alcacer scores again as Dortmund edge past Mainz 2-1</td>\n",
       "      <td>Sport</td>\n",
       "    </tr>\n",
       "    <tr>\n",
       "      <th>30052</th>\n",
       "      <td>Dusseldorf stun Bayern Munich with stoppage-time equaliser</td>\n",
       "      <td>Sport</td>\n",
       "    </tr>\n",
       "  </tbody>\n",
       "</table>\n",
       "<p>30053 rows × 2 columns</p>\n",
       "</div>"
      ],
      "text/plain": [
       "                                                                                                                                                                                                                                                                                       Article Title  \\\n",
       "0      Lebanese artist Haig Aivazian's video installation to be presented during 72nd Berlin Int'l Film Festival\\n\\n\\n\\nThe video installation All of Your Stars are But Dust on My Shoes by the Lebanese artist will be presented within the Forum Expanded programme of the upcoming Berlinale.      \n",
       "1      Cairo's Palace of Arts gears up for 32nd Youth Salon\\n\\n\\n\\n The 32nd edition of Youth Salon (Salon El-Shabab) will take place at the Palace of Arts located on the Cairo Opera House grounds.                                                                                                  \n",
       "2      Weaam El-Masry, Mohamed Shoukry, Ahmed El-Shaer to represent Egypt at Venice Art Biennale 2022\\n\\n\\n\\n‘Eden Like Garden’ by Weaam Ahmed El-Masry, Mohamed Shoukry, and Ahmed El-Shaer will represent Egypt during the 59th International Art Exhibition ‘La Biennale di Venezia’                \n",
       "3      Former Egyptian culture minister Farouk Hosny to hold solo exhibition at Bahrain National Museum\\n\\n\\n\\nFormer Egyptian culture minister Farouk Hosny will display 45 of his works created over the past two years during the upcoming solo exhibition at Bahrain National Museum.              \n",
       "4      The Orient of the early 20th century exhibited as photographs in Paris\\n\\n\\n\\nThe Roger-Viollet gallery in Paris is exhibiting a collection of black and white panoramic photos belonging to the Léon and Lévy studios, revealing the Maghreb and Egypt at the beginning of the 20th century.   \n",
       "...                                                                                                                                                                                                                                                                                              ...   \n",
       "30048  Ronaldo strikes again as Juventus brush SPAL aside                                                                                                                                                                                                                                              \n",
       "30049  Toothless Manchester United held to 0-0 home draw by Palace                                                                                                                                                                                                                                     \n",
       "30050  Manchester City stay top after 4-0 win at West Ham                                                                                                                                                                                                                                              \n",
       "30051  Alcacer scores again as Dortmund edge past Mainz 2-1                                                                                                                                                                                                                                            \n",
       "30052  Dusseldorf stun Bayern Munich with stoppage-time equaliser                                                                                                                                                                                                                                      \n",
       "\n",
       "      Category  \n",
       "0      Art      \n",
       "1      Art      \n",
       "2      Art      \n",
       "3      Art      \n",
       "4      Art      \n",
       "...    ...      \n",
       "30048  Sport    \n",
       "30049  Sport    \n",
       "30050  Sport    \n",
       "30051  Sport    \n",
       "30052  Sport    \n",
       "\n",
       "[30053 rows x 2 columns]"
      ]
     },
     "execution_count": 3,
     "metadata": {},
     "output_type": "execute_result"
    }
   ],
   "source": [
    "df"
   ]
  },
  {
   "cell_type": "code",
   "execution_count": 4,
   "id": "d20a2f85",
   "metadata": {},
   "outputs": [
    {
     "data": {
      "text/plain": [
       "Art        10053\n",
       "Economy    10000\n",
       "Sport      10000\n",
       "Name: Category, dtype: int64"
      ]
     },
     "execution_count": 4,
     "metadata": {},
     "output_type": "execute_result"
    }
   ],
   "source": [
    "df.Category.value_counts()"
   ]
  },
  {
   "cell_type": "code",
   "execution_count": 5,
   "id": "f57b2637",
   "metadata": {},
   "outputs": [
    {
     "name": "stdout",
     "output_type": "stream",
     "text": [
      "there are 45 duplicated row\n"
     ]
    },
    {
     "data": {
      "text/plain": [
       "Art        10052\n",
       "Sport      9985 \n",
       "Economy    9971 \n",
       "Name: Category, dtype: int64"
      ]
     },
     "execution_count": 5,
     "metadata": {},
     "output_type": "execute_result"
    }
   ],
   "source": [
    "# drop duplicates\n",
    "print(\"there are {} duplicated row\".format(df.duplicated().sum()))\n",
    "df.drop_duplicates(inplace = True)\n",
    "df.Category.value_counts()"
   ]
  },
  {
   "cell_type": "code",
   "execution_count": 6,
   "id": "cae68808",
   "metadata": {},
   "outputs": [],
   "source": [
    "# remove \"\\n\" found in many titles\n",
    "df = df.replace('\\n',' ', regex=True)"
   ]
  },
  {
   "cell_type": "code",
   "execution_count": 7,
   "id": "79be7d0a",
   "metadata": {
    "scrolled": true
   },
   "outputs": [
    {
     "data": {
      "text/html": [
       "<div>\n",
       "<style scoped>\n",
       "    .dataframe tbody tr th:only-of-type {\n",
       "        vertical-align: middle;\n",
       "    }\n",
       "\n",
       "    .dataframe tbody tr th {\n",
       "        vertical-align: top;\n",
       "    }\n",
       "\n",
       "    .dataframe thead th {\n",
       "        text-align: right;\n",
       "    }\n",
       "</style>\n",
       "<table border=\"1\" class=\"dataframe\">\n",
       "  <thead>\n",
       "    <tr style=\"text-align: right;\">\n",
       "      <th></th>\n",
       "      <th>Article Title</th>\n",
       "      <th>Category</th>\n",
       "    </tr>\n",
       "  </thead>\n",
       "  <tbody>\n",
       "    <tr>\n",
       "      <th>0</th>\n",
       "      <td>Lebanese artist Haig Aivazian's video installation to be presented during 72nd Berlin Int'l Film Festival    The video installation All of Your Stars are But Dust on My Shoes by the Lebanese artist will be presented within the Forum Expanded programme of the upcoming Berlinale.</td>\n",
       "      <td>Art</td>\n",
       "    </tr>\n",
       "    <tr>\n",
       "      <th>1</th>\n",
       "      <td>Cairo's Palace of Arts gears up for 32nd Youth Salon     The 32nd edition of Youth Salon (Salon El-Shabab) will take place at the Palace of Arts located on the Cairo Opera House grounds.</td>\n",
       "      <td>Art</td>\n",
       "    </tr>\n",
       "    <tr>\n",
       "      <th>2</th>\n",
       "      <td>Weaam El-Masry, Mohamed Shoukry, Ahmed El-Shaer to represent Egypt at Venice Art Biennale 2022    ‘Eden Like Garden’ by Weaam Ahmed El-Masry, Mohamed Shoukry, and Ahmed El-Shaer will represent Egypt during the 59th International Art Exhibition ‘La Biennale di Venezia’</td>\n",
       "      <td>Art</td>\n",
       "    </tr>\n",
       "    <tr>\n",
       "      <th>3</th>\n",
       "      <td>Former Egyptian culture minister Farouk Hosny to hold solo exhibition at Bahrain National Museum    Former Egyptian culture minister Farouk Hosny will display 45 of his works created over the past two years during the upcoming solo exhibition at Bahrain National Museum.</td>\n",
       "      <td>Art</td>\n",
       "    </tr>\n",
       "    <tr>\n",
       "      <th>4</th>\n",
       "      <td>The Orient of the early 20th century exhibited as photographs in Paris    The Roger-Viollet gallery in Paris is exhibiting a collection of black and white panoramic photos belonging to the Léon and Lévy studios, revealing the Maghreb and Egypt at the beginning of the 20th century.</td>\n",
       "      <td>Art</td>\n",
       "    </tr>\n",
       "    <tr>\n",
       "      <th>...</th>\n",
       "      <td>...</td>\n",
       "      <td>...</td>\n",
       "    </tr>\n",
       "    <tr>\n",
       "      <th>30048</th>\n",
       "      <td>Ronaldo strikes again as Juventus brush SPAL aside</td>\n",
       "      <td>Sport</td>\n",
       "    </tr>\n",
       "    <tr>\n",
       "      <th>30049</th>\n",
       "      <td>Toothless Manchester United held to 0-0 home draw by Palace</td>\n",
       "      <td>Sport</td>\n",
       "    </tr>\n",
       "    <tr>\n",
       "      <th>30050</th>\n",
       "      <td>Manchester City stay top after 4-0 win at West Ham</td>\n",
       "      <td>Sport</td>\n",
       "    </tr>\n",
       "    <tr>\n",
       "      <th>30051</th>\n",
       "      <td>Alcacer scores again as Dortmund edge past Mainz 2-1</td>\n",
       "      <td>Sport</td>\n",
       "    </tr>\n",
       "    <tr>\n",
       "      <th>30052</th>\n",
       "      <td>Dusseldorf stun Bayern Munich with stoppage-time equaliser</td>\n",
       "      <td>Sport</td>\n",
       "    </tr>\n",
       "  </tbody>\n",
       "</table>\n",
       "<p>30008 rows × 2 columns</p>\n",
       "</div>"
      ],
      "text/plain": [
       "                                                                                                                                                                                                                                                                                   Article Title  \\\n",
       "0      Lebanese artist Haig Aivazian's video installation to be presented during 72nd Berlin Int'l Film Festival    The video installation All of Your Stars are But Dust on My Shoes by the Lebanese artist will be presented within the Forum Expanded programme of the upcoming Berlinale.      \n",
       "1      Cairo's Palace of Arts gears up for 32nd Youth Salon     The 32nd edition of Youth Salon (Salon El-Shabab) will take place at the Palace of Arts located on the Cairo Opera House grounds.                                                                                                  \n",
       "2      Weaam El-Masry, Mohamed Shoukry, Ahmed El-Shaer to represent Egypt at Venice Art Biennale 2022    ‘Eden Like Garden’ by Weaam Ahmed El-Masry, Mohamed Shoukry, and Ahmed El-Shaer will represent Egypt during the 59th International Art Exhibition ‘La Biennale di Venezia’                \n",
       "3      Former Egyptian culture minister Farouk Hosny to hold solo exhibition at Bahrain National Museum    Former Egyptian culture minister Farouk Hosny will display 45 of his works created over the past two years during the upcoming solo exhibition at Bahrain National Museum.              \n",
       "4      The Orient of the early 20th century exhibited as photographs in Paris    The Roger-Viollet gallery in Paris is exhibiting a collection of black and white panoramic photos belonging to the Léon and Lévy studios, revealing the Maghreb and Egypt at the beginning of the 20th century.   \n",
       "...                                                                                                                                                                                                                                                                                          ...   \n",
       "30048  Ronaldo strikes again as Juventus brush SPAL aside                                                                                                                                                                                                                                          \n",
       "30049  Toothless Manchester United held to 0-0 home draw by Palace                                                                                                                                                                                                                                 \n",
       "30050  Manchester City stay top after 4-0 win at West Ham                                                                                                                                                                                                                                          \n",
       "30051  Alcacer scores again as Dortmund edge past Mainz 2-1                                                                                                                                                                                                                                        \n",
       "30052  Dusseldorf stun Bayern Munich with stoppage-time equaliser                                                                                                                                                                                                                                  \n",
       "\n",
       "      Category  \n",
       "0      Art      \n",
       "1      Art      \n",
       "2      Art      \n",
       "3      Art      \n",
       "4      Art      \n",
       "...    ...      \n",
       "30048  Sport    \n",
       "30049  Sport    \n",
       "30050  Sport    \n",
       "30051  Sport    \n",
       "30052  Sport    \n",
       "\n",
       "[30008 rows x 2 columns]"
      ]
     },
     "execution_count": 7,
     "metadata": {},
     "output_type": "execute_result"
    }
   ],
   "source": [
    "df"
   ]
  },
  {
   "cell_type": "code",
   "execution_count": 9,
   "id": "d50f5a6d",
   "metadata": {},
   "outputs": [],
   "source": [
    "df.to_csv('Cleaned_df.csv')"
   ]
  }
 ],
 "metadata": {
  "kernelspec": {
   "display_name": "Python 3 (ipykernel)",
   "language": "python",
   "name": "python3"
  },
  "language_info": {
   "codemirror_mode": {
    "name": "ipython",
    "version": 3
   },
   "file_extension": ".py",
   "mimetype": "text/x-python",
   "name": "python",
   "nbconvert_exporter": "python",
   "pygments_lexer": "ipython3",
   "version": "3.8.5"
  }
 },
 "nbformat": 4,
 "nbformat_minor": 5
}
