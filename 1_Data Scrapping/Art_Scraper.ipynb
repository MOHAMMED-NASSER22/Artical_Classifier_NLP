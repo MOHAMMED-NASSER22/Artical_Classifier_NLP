{
 "cells": [
  {
   "cell_type": "code",
   "execution_count": 1,
   "id": "851c4e91",
   "metadata": {},
   "outputs": [],
   "source": [
    "import requests\n",
    "from bs4 import BeautifulSoup\n",
    "import pandas as pd\n",
    "from tqdm import trange\n",
    "import time"
   ]
  },
  {
   "cell_type": "code",
   "execution_count": 2,
   "id": "a36a4e83",
   "metadata": {
    "scrolled": true
   },
   "outputs": [
    {
     "data": {
      "text/html": [
       "<div>\n",
       "<style scoped>\n",
       "    .dataframe tbody tr th:only-of-type {\n",
       "        vertical-align: middle;\n",
       "    }\n",
       "\n",
       "    .dataframe tbody tr th {\n",
       "        vertical-align: top;\n",
       "    }\n",
       "\n",
       "    .dataframe thead th {\n",
       "        text-align: right;\n",
       "    }\n",
       "</style>\n",
       "<table border=\"1\" class=\"dataframe\">\n",
       "  <thead>\n",
       "    <tr style=\"text-align: right;\">\n",
       "      <th></th>\n",
       "      <th>Article Title</th>\n",
       "      <th>Category</th>\n",
       "    </tr>\n",
       "  </thead>\n",
       "  <tbody>\n",
       "  </tbody>\n",
       "</table>\n",
       "</div>"
      ],
      "text/plain": [
       "Empty DataFrame\n",
       "Columns: [Article Title, Category]\n",
       "Index: []"
      ]
     },
     "execution_count": 2,
     "metadata": {},
     "output_type": "execute_result"
    }
   ],
   "source": [
    "Articles_Scraper = pd.DataFrame({'Article Title': [] , 'Category' : []})\n",
    "Articles_Scraper"
   ]
  },
  {
   "cell_type": "code",
   "execution_count": 3,
   "id": "98270e35",
   "metadata": {
    "scrolled": true
   },
   "outputs": [
    {
     "name": "stderr",
     "output_type": "stream",
     "text": [
      "100%|██████████████████████████████████████████████████████████████████████████████████| 89/89 [03:05<00:00,  2.08s/it]\n"
     ]
    }
   ],
   "source": [
    "# get 10000 artical in ART\n",
    "\n",
    "# there is only 1780 article in Visual Art\n",
    "for i in trange(0 , 1780, 20):\n",
    "    \n",
    "    src = requests.get(\"https://english.ahram.org.eg/AllCategory/5/25/Arts%20&%20Culture/Visual%20Art/\"+str(i)+\".aspx\").content\n",
    "    \n",
    "    soup= BeautifulSoup(src , \"lxml\")\n",
    "    \n",
    "    article_title=[]\n",
    "    articles_title= soup.find_all(\"div\",{\"class\":\"col-md-12 col-lg-12 mar-top-outer\"})\n",
    "    \n",
    "    for r in range(len(articles_title)):\n",
    "        Articles_Scraper = Articles_Scraper.append({'Article Title': articles_title[r].text.strip(), 'Category':'Art'}, ignore_index = True)\n",
    "               \n",
    "        \n"
   ]
  },
  {
   "cell_type": "code",
   "execution_count": 4,
   "id": "bd99d0e9",
   "metadata": {
    "scrolled": true
   },
   "outputs": [
    {
     "data": {
      "text/plain": [
       "(1773, 2)"
      ]
     },
     "execution_count": 4,
     "metadata": {},
     "output_type": "execute_result"
    }
   ],
   "source": [
    "Articles_Scraper.shape"
   ]
  },
  {
   "cell_type": "code",
   "execution_count": 5,
   "id": "68211940",
   "metadata": {},
   "outputs": [
    {
     "name": "stderr",
     "output_type": "stream",
     "text": [
      "100%|████████████████████████████████████████████████████████████████████████████████| 184/184 [05:56<00:00,  1.94s/it]\n"
     ]
    }
   ],
   "source": [
    "# there is only 3680 article in Film Art\n",
    "for i in trange(0 , 3680, 20):\n",
    "    \n",
    "    src = requests.get(\"https://english.ahram.org.eg/AllCategory/5/32/Arts--Culture/Film/\"+str(i)+\".aspx\").content\n",
    "    \n",
    "    soup= BeautifulSoup(src , \"lxml\")\n",
    "    \n",
    "    article_title=[]\n",
    "    articles_title= soup.find_all(\"div\",{\"class\":\"col-md-12 col-lg-12 mar-top-outer\"})\n",
    "    \n",
    "    for r in range(len(articles_title)):\n",
    "        Articles_Scraper = Articles_Scraper.append({'Article Title': articles_title[r].text.strip(), 'Category':'Art'}, ignore_index = True)\n",
    "               "
   ]
  },
  {
   "cell_type": "code",
   "execution_count": 6,
   "id": "5ed3ad44",
   "metadata": {},
   "outputs": [
    {
     "data": {
      "text/plain": [
       "(5453, 2)"
      ]
     },
     "execution_count": 6,
     "metadata": {},
     "output_type": "execute_result"
    }
   ],
   "source": [
    "Articles_Scraper.shape"
   ]
  },
  {
   "cell_type": "code",
   "execution_count": 7,
   "id": "cbfb3057",
   "metadata": {},
   "outputs": [
    {
     "name": "stderr",
     "output_type": "stream",
     "text": [
      "100%|████████████████████████████████████████████████████████████████████████████████| 125/125 [04:13<00:00,  2.03s/it]\n"
     ]
    }
   ],
   "source": [
    "# there is only 2500 article in Music Art\n",
    "for i in trange(0 , 2500, 20):\n",
    "    \n",
    "    src = requests.get(\"https://english.ahram.org.eg/AllCategory/5/33/Arts--Culture/Music/\"+str(i)+\".aspx\").content\n",
    "    \n",
    "    soup= BeautifulSoup(src , \"lxml\")\n",
    "    \n",
    "    article_title=[]\n",
    "    articles_title= soup.find_all(\"div\",{\"class\":\"col-md-12 col-lg-12 mar-top-outer\"})\n",
    "    \n",
    "    for r in range(len(articles_title)):\n",
    "        Articles_Scraper = Articles_Scraper.append({'Article Title': articles_title[r].text.strip(), 'Category':'Art'}, ignore_index = True)\n",
    "               "
   ]
  },
  {
   "cell_type": "code",
   "execution_count": 8,
   "id": "70bc769c",
   "metadata": {},
   "outputs": [
    {
     "data": {
      "text/plain": [
       "(7953, 2)"
      ]
     },
     "execution_count": 8,
     "metadata": {},
     "output_type": "execute_result"
    }
   ],
   "source": [
    "Articles_Scraper.shape"
   ]
  },
  {
   "cell_type": "code",
   "execution_count": 9,
   "id": "7c912311",
   "metadata": {},
   "outputs": [
    {
     "name": "stderr",
     "output_type": "stream",
     "text": [
      "100%|████████████████████████████████████████████████████████████████████████████████| 105/105 [03:46<00:00,  2.16s/it]\n"
     ]
    }
   ],
   "source": [
    "# get 2100 article in Stage Street Art\n",
    "for i in trange(0 , 2100, 20):\n",
    "    \n",
    "    src = requests.get(\"https://english.ahram.org.eg/AllCategory/5/35/Arts--Culture/Stage--Street/\"+str(i)+\".aspx\").content\n",
    "    \n",
    "    soup= BeautifulSoup(src , \"lxml\")\n",
    "    \n",
    "    article_title=[]\n",
    "    articles_title= soup.find_all(\"div\",{\"class\":\"col-md-12 col-lg-12 mar-top-outer\"})\n",
    "    \n",
    "    for r in range(len(articles_title)):\n",
    "        Articles_Scraper = Articles_Scraper.append({'Article Title': articles_title[r].text.strip(), 'Category':'Art'}, ignore_index = True)\n",
    "               "
   ]
  },
  {
   "cell_type": "code",
   "execution_count": 10,
   "id": "e54ef091",
   "metadata": {},
   "outputs": [
    {
     "data": {
      "text/plain": [
       "(10053, 2)"
      ]
     },
     "execution_count": 10,
     "metadata": {},
     "output_type": "execute_result"
    }
   ],
   "source": [
    "Articles_Scraper.shape"
   ]
  },
  {
   "cell_type": "code",
   "execution_count": 11,
   "id": "8be39fdf",
   "metadata": {
    "scrolled": true
   },
   "outputs": [
    {
     "data": {
      "text/html": [
       "<div>\n",
       "<style scoped>\n",
       "    .dataframe tbody tr th:only-of-type {\n",
       "        vertical-align: middle;\n",
       "    }\n",
       "\n",
       "    .dataframe tbody tr th {\n",
       "        vertical-align: top;\n",
       "    }\n",
       "\n",
       "    .dataframe thead th {\n",
       "        text-align: right;\n",
       "    }\n",
       "</style>\n",
       "<table border=\"1\" class=\"dataframe\">\n",
       "  <thead>\n",
       "    <tr style=\"text-align: right;\">\n",
       "      <th></th>\n",
       "      <th>Article Title</th>\n",
       "      <th>Category</th>\n",
       "    </tr>\n",
       "  </thead>\n",
       "  <tbody>\n",
       "    <tr>\n",
       "      <th>0</th>\n",
       "      <td>Lebanese artist Haig Aivazian's video installa...</td>\n",
       "      <td>Art</td>\n",
       "    </tr>\n",
       "    <tr>\n",
       "      <th>1</th>\n",
       "      <td>Cairo's Palace of Arts gears up for 32nd Youth...</td>\n",
       "      <td>Art</td>\n",
       "    </tr>\n",
       "    <tr>\n",
       "      <th>2</th>\n",
       "      <td>Weaam El-Masry, Mohamed Shoukry, Ahmed El-Shae...</td>\n",
       "      <td>Art</td>\n",
       "    </tr>\n",
       "    <tr>\n",
       "      <th>3</th>\n",
       "      <td>Former Egyptian culture minister Farouk Hosny ...</td>\n",
       "      <td>Art</td>\n",
       "    </tr>\n",
       "    <tr>\n",
       "      <th>4</th>\n",
       "      <td>The Orient of the early 20th century exhibited...</td>\n",
       "      <td>Art</td>\n",
       "    </tr>\n",
       "    <tr>\n",
       "      <th>...</th>\n",
       "      <td>...</td>\n",
       "      <td>...</td>\n",
       "    </tr>\n",
       "    <tr>\n",
       "      <th>10048</th>\n",
       "      <td>Townhouse Gallery gets into the election spiri...</td>\n",
       "      <td>Art</td>\n",
       "    </tr>\n",
       "    <tr>\n",
       "      <th>10049</th>\n",
       "      <td>Salafists force temporary closure of Tunisian ...</td>\n",
       "      <td>Art</td>\n",
       "    </tr>\n",
       "    <tr>\n",
       "      <th>10050</th>\n",
       "      <td>Egypt's artists brace for Islamist rule\\n\\n\\n\\...</td>\n",
       "      <td>Art</td>\n",
       "    </tr>\n",
       "    <tr>\n",
       "      <th>10051</th>\n",
       "      <td>Culture must be accessible to all, says cultur...</td>\n",
       "      <td>Art</td>\n",
       "    </tr>\n",
       "    <tr>\n",
       "      <th>10052</th>\n",
       "      <td>Darb Al-Ahmar to present circus performance\\n\\...</td>\n",
       "      <td>Art</td>\n",
       "    </tr>\n",
       "  </tbody>\n",
       "</table>\n",
       "<p>10053 rows × 2 columns</p>\n",
       "</div>"
      ],
      "text/plain": [
       "                                           Article Title Category\n",
       "0      Lebanese artist Haig Aivazian's video installa...      Art\n",
       "1      Cairo's Palace of Arts gears up for 32nd Youth...      Art\n",
       "2      Weaam El-Masry, Mohamed Shoukry, Ahmed El-Shae...      Art\n",
       "3      Former Egyptian culture minister Farouk Hosny ...      Art\n",
       "4      The Orient of the early 20th century exhibited...      Art\n",
       "...                                                  ...      ...\n",
       "10048  Townhouse Gallery gets into the election spiri...      Art\n",
       "10049  Salafists force temporary closure of Tunisian ...      Art\n",
       "10050  Egypt's artists brace for Islamist rule\\n\\n\\n\\...      Art\n",
       "10051  Culture must be accessible to all, says cultur...      Art\n",
       "10052  Darb Al-Ahmar to present circus performance\\n\\...      Art\n",
       "\n",
       "[10053 rows x 2 columns]"
      ]
     },
     "execution_count": 11,
     "metadata": {},
     "output_type": "execute_result"
    }
   ],
   "source": [
    "Articles_Scraper"
   ]
  },
  {
   "cell_type": "code",
   "execution_count": 12,
   "id": "2f4661fe",
   "metadata": {},
   "outputs": [],
   "source": [
    "Articles_Scraper.to_csv('Art.csv')"
   ]
  }
 ],
 "metadata": {
  "kernelspec": {
   "display_name": "Python 3 (ipykernel)",
   "language": "python",
   "name": "python3"
  },
  "language_info": {
   "codemirror_mode": {
    "name": "ipython",
    "version": 3
   },
   "file_extension": ".py",
   "mimetype": "text/x-python",
   "name": "python",
   "nbconvert_exporter": "python",
   "pygments_lexer": "ipython3",
   "version": "3.8.5"
  }
 },
 "nbformat": 4,
 "nbformat_minor": 5
}
