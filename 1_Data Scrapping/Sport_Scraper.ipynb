{
 "cells": [
  {
   "cell_type": "code",
   "execution_count": 53,
   "id": "89200cb4",
   "metadata": {},
   "outputs": [],
   "source": [
    "import requests\n",
    "from bs4 import BeautifulSoup\n",
    "import pandas as pd\n",
    "from tqdm import trange\n",
    "import time"
   ]
  },
  {
   "cell_type": "code",
   "execution_count": 54,
   "id": "892e8f62",
   "metadata": {},
   "outputs": [
    {
     "data": {
      "text/html": [
       "<div>\n",
       "<style scoped>\n",
       "    .dataframe tbody tr th:only-of-type {\n",
       "        vertical-align: middle;\n",
       "    }\n",
       "\n",
       "    .dataframe tbody tr th {\n",
       "        vertical-align: top;\n",
       "    }\n",
       "\n",
       "    .dataframe thead th {\n",
       "        text-align: right;\n",
       "    }\n",
       "</style>\n",
       "<table border=\"1\" class=\"dataframe\">\n",
       "  <thead>\n",
       "    <tr style=\"text-align: right;\">\n",
       "      <th></th>\n",
       "      <th>Article Title</th>\n",
       "      <th>Category</th>\n",
       "    </tr>\n",
       "  </thead>\n",
       "  <tbody>\n",
       "  </tbody>\n",
       "</table>\n",
       "</div>"
      ],
      "text/plain": [
       "Empty DataFrame\n",
       "Columns: [Article Title, Category]\n",
       "Index: []"
      ]
     },
     "execution_count": 54,
     "metadata": {},
     "output_type": "execute_result"
    }
   ],
   "source": [
    "Articles_Scraper = pd.DataFrame({'Article Title': [] , 'Category' : []})\n",
    "Articles_Scraper"
   ]
  },
  {
   "cell_type": "code",
   "execution_count": 55,
   "id": "e17f083b",
   "metadata": {
    "scrolled": false
   },
   "outputs": [
    {
     "name": "stderr",
     "output_type": "stream",
     "text": [
      "100%|████████████████████████████████████████████████████████████████████████████████| 500/500 [16:53<00:00,  2.03s/it]\n"
     ]
    }
   ],
   "source": [
    "# get 10000 artical in Sport\n",
    "for i in trange(0 , 10000, 20):\n",
    "    \n",
    "    src = requests.get(\"https://english.ahram.org.eg/AllCategory/6/55/Sports/World/\"+str(i)+\".aspx\").content\n",
    "    \n",
    "    soup= BeautifulSoup(src , \"lxml\")\n",
    "    \n",
    "    article_title=[]\n",
    "    articles_title= soup.find_all(\"div\",{\"class\":\"col-md-12 col-lg-12 mar-top-outer\"})\n",
    "    \n",
    "    for r in range(len(articles_title)):\n",
    "        Articles_Scraper = Articles_Scraper.append({'Article Title': articles_title[r].text.strip(), 'Category':'Sport'}, ignore_index = True)\n",
    "               \n"
   ]
  },
  {
   "cell_type": "code",
   "execution_count": 56,
   "id": "5a4eb11e",
   "metadata": {},
   "outputs": [
    {
     "data": {
      "text/plain": [
       "(10000, 2)"
      ]
     },
     "execution_count": 56,
     "metadata": {},
     "output_type": "execute_result"
    }
   ],
   "source": [
    "Articles_Scraper.shape"
   ]
  },
  {
   "cell_type": "code",
   "execution_count": 57,
   "id": "68418b46",
   "metadata": {},
   "outputs": [
    {
     "data": {
      "text/html": [
       "<div>\n",
       "<style scoped>\n",
       "    .dataframe tbody tr th:only-of-type {\n",
       "        vertical-align: middle;\n",
       "    }\n",
       "\n",
       "    .dataframe tbody tr th {\n",
       "        vertical-align: top;\n",
       "    }\n",
       "\n",
       "    .dataframe thead th {\n",
       "        text-align: right;\n",
       "    }\n",
       "</style>\n",
       "<table border=\"1\" class=\"dataframe\">\n",
       "  <thead>\n",
       "    <tr style=\"text-align: right;\">\n",
       "      <th></th>\n",
       "      <th>Article Title</th>\n",
       "      <th>Category</th>\n",
       "    </tr>\n",
       "  </thead>\n",
       "  <tbody>\n",
       "    <tr>\n",
       "      <th>0</th>\n",
       "      <td>Klopp signs new Liverpool contract until 2026\\...</td>\n",
       "      <td>Sport</td>\n",
       "    </tr>\n",
       "    <tr>\n",
       "      <th>1</th>\n",
       "      <td>Pochettino '100 percent' sure he and Mbappe wi...</td>\n",
       "      <td>Sport</td>\n",
       "    </tr>\n",
       "    <tr>\n",
       "      <th>2</th>\n",
       "      <td>Barcelona to play 2023-24 season away from Cam...</td>\n",
       "      <td>Sport</td>\n",
       "    </tr>\n",
       "    <tr>\n",
       "      <th>3</th>\n",
       "      <td>Madrid can clinch Spanish title ahead of Man C...</td>\n",
       "      <td>Sport</td>\n",
       "    </tr>\n",
       "    <tr>\n",
       "      <th>4</th>\n",
       "      <td>Aston Villa to face Leeds in Brisbane pre-seas...</td>\n",
       "      <td>Sport</td>\n",
       "    </tr>\n",
       "    <tr>\n",
       "      <th>...</th>\n",
       "      <td>...</td>\n",
       "      <td>...</td>\n",
       "    </tr>\n",
       "    <tr>\n",
       "      <th>9995</th>\n",
       "      <td>Ronaldo strikes again as Juventus brush SPAL a...</td>\n",
       "      <td>Sport</td>\n",
       "    </tr>\n",
       "    <tr>\n",
       "      <th>9996</th>\n",
       "      <td>Toothless Manchester United held to 0-0 home d...</td>\n",
       "      <td>Sport</td>\n",
       "    </tr>\n",
       "    <tr>\n",
       "      <th>9997</th>\n",
       "      <td>Manchester City stay top after 4-0 win at West...</td>\n",
       "      <td>Sport</td>\n",
       "    </tr>\n",
       "    <tr>\n",
       "      <th>9998</th>\n",
       "      <td>Alcacer scores again as Dortmund edge past Mai...</td>\n",
       "      <td>Sport</td>\n",
       "    </tr>\n",
       "    <tr>\n",
       "      <th>9999</th>\n",
       "      <td>Dusseldorf stun Bayern Munich with stoppage-ti...</td>\n",
       "      <td>Sport</td>\n",
       "    </tr>\n",
       "  </tbody>\n",
       "</table>\n",
       "<p>10000 rows × 2 columns</p>\n",
       "</div>"
      ],
      "text/plain": [
       "                                          Article Title Category\n",
       "0     Klopp signs new Liverpool contract until 2026\\...    Sport\n",
       "1     Pochettino '100 percent' sure he and Mbappe wi...    Sport\n",
       "2     Barcelona to play 2023-24 season away from Cam...    Sport\n",
       "3     Madrid can clinch Spanish title ahead of Man C...    Sport\n",
       "4     Aston Villa to face Leeds in Brisbane pre-seas...    Sport\n",
       "...                                                 ...      ...\n",
       "9995  Ronaldo strikes again as Juventus brush SPAL a...    Sport\n",
       "9996  Toothless Manchester United held to 0-0 home d...    Sport\n",
       "9997  Manchester City stay top after 4-0 win at West...    Sport\n",
       "9998  Alcacer scores again as Dortmund edge past Mai...    Sport\n",
       "9999  Dusseldorf stun Bayern Munich with stoppage-ti...    Sport\n",
       "\n",
       "[10000 rows x 2 columns]"
      ]
     },
     "execution_count": 57,
     "metadata": {},
     "output_type": "execute_result"
    }
   ],
   "source": [
    "Articles_Scraper"
   ]
  },
  {
   "cell_type": "code",
   "execution_count": 58,
   "id": "f83cec67",
   "metadata": {},
   "outputs": [],
   "source": [
    "Articles_Scraper.to_csv('Sport.csv')"
   ]
  }
 ],
 "metadata": {
  "kernelspec": {
   "display_name": "Python 3 (ipykernel)",
   "language": "python",
   "name": "python3"
  },
  "language_info": {
   "codemirror_mode": {
    "name": "ipython",
    "version": 3
   },
   "file_extension": ".py",
   "mimetype": "text/x-python",
   "name": "python",
   "nbconvert_exporter": "python",
   "pygments_lexer": "ipython3",
   "version": "3.8.5"
  }
 },
 "nbformat": 4,
 "nbformat_minor": 5
}
