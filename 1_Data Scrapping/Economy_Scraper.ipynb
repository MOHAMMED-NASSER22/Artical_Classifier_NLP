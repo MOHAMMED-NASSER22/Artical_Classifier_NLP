{
 "cells": [
  {
   "cell_type": "code",
   "execution_count": 15,
   "id": "6ae5c2be",
   "metadata": {},
   "outputs": [],
   "source": [
    "import requests\n",
    "from bs4 import BeautifulSoup\n",
    "import pandas as pd\n",
    "from tqdm import trange\n",
    "import time"
   ]
  },
  {
   "cell_type": "code",
   "execution_count": 16,
   "id": "1d0a150c",
   "metadata": {},
   "outputs": [
    {
     "data": {
      "text/html": [
       "<div>\n",
       "<style scoped>\n",
       "    .dataframe tbody tr th:only-of-type {\n",
       "        vertical-align: middle;\n",
       "    }\n",
       "\n",
       "    .dataframe tbody tr th {\n",
       "        vertical-align: top;\n",
       "    }\n",
       "\n",
       "    .dataframe thead th {\n",
       "        text-align: right;\n",
       "    }\n",
       "</style>\n",
       "<table border=\"1\" class=\"dataframe\">\n",
       "  <thead>\n",
       "    <tr style=\"text-align: right;\">\n",
       "      <th></th>\n",
       "      <th>Article Title</th>\n",
       "      <th>Category</th>\n",
       "    </tr>\n",
       "  </thead>\n",
       "  <tbody>\n",
       "  </tbody>\n",
       "</table>\n",
       "</div>"
      ],
      "text/plain": [
       "Empty DataFrame\n",
       "Columns: [Article Title, Category]\n",
       "Index: []"
      ]
     },
     "execution_count": 16,
     "metadata": {},
     "output_type": "execute_result"
    }
   ],
   "source": [
    "Articles_Scraper = pd.DataFrame({'Article Title': [] , 'Category' : []})\n",
    "Articles_Scraper"
   ]
  },
  {
   "cell_type": "code",
   "execution_count": 17,
   "id": "cd48ecf8",
   "metadata": {},
   "outputs": [
    {
     "name": "stderr",
     "output_type": "stream",
     "text": [
      "100%|████████████████████████████████████████████████████████████████████████████████| 500/500 [18:25<00:00,  2.21s/it]\n"
     ]
    }
   ],
   "source": [
    "# get 10000 artical in Economy\n",
    "for i in trange(0 ,10000, 20):\n",
    "    \n",
    "    src = requests.get(\"https://english.ahram.org.eg/AllCategory/3/12/Business/Economy/\"+str(i)+\".aspx\").content\n",
    "    \n",
    "    soup= BeautifulSoup(src , \"lxml\")\n",
    "    \n",
    "    article_title=[]\n",
    "    articles_title= soup.find_all(\"div\",{\"class\":\"col-md-12 col-lg-12 mar-top-outer\"})\n",
    "    \n",
    "    for r in range(len(articles_title)):\n",
    "        Articles_Scraper = Articles_Scraper.append({'Article Title': articles_title[r].text.strip(), 'Category':'Economy'}, ignore_index = True)\n",
    "               \n"
   ]
  },
  {
   "cell_type": "code",
   "execution_count": 18,
   "id": "28a266cf",
   "metadata": {},
   "outputs": [
    {
     "data": {
      "text/plain": [
       "(10000, 2)"
      ]
     },
     "execution_count": 18,
     "metadata": {},
     "output_type": "execute_result"
    }
   ],
   "source": [
    "Articles_Scraper.shape"
   ]
  },
  {
   "cell_type": "code",
   "execution_count": 19,
   "id": "75b023c0",
   "metadata": {},
   "outputs": [
    {
     "data": {
      "text/html": [
       "<div>\n",
       "<style scoped>\n",
       "    .dataframe tbody tr th:only-of-type {\n",
       "        vertical-align: middle;\n",
       "    }\n",
       "\n",
       "    .dataframe tbody tr th {\n",
       "        vertical-align: top;\n",
       "    }\n",
       "\n",
       "    .dataframe thead th {\n",
       "        text-align: right;\n",
       "    }\n",
       "</style>\n",
       "<table border=\"1\" class=\"dataframe\">\n",
       "  <thead>\n",
       "    <tr style=\"text-align: right;\">\n",
       "      <th></th>\n",
       "      <th>Article Title</th>\n",
       "      <th>Category</th>\n",
       "    </tr>\n",
       "  </thead>\n",
       "  <tbody>\n",
       "    <tr>\n",
       "      <th>0</th>\n",
       "      <td>Egypt’s financial inclusion grows by 115% over...</td>\n",
       "      <td>Economy</td>\n",
       "    </tr>\n",
       "    <tr>\n",
       "      <th>1</th>\n",
       "      <td>Egypt to restore wheat supply to local bakerie...</td>\n",
       "      <td>Economy</td>\n",
       "    </tr>\n",
       "    <tr>\n",
       "      <th>2</th>\n",
       "      <td>Egypt's 2022/23 draft budget allocates EGP 356...</td>\n",
       "      <td>Economy</td>\n",
       "    </tr>\n",
       "    <tr>\n",
       "      <th>3</th>\n",
       "      <td>S&amp;P affirms Egypt’s long, short term credit ra...</td>\n",
       "      <td>Economy</td>\n",
       "    </tr>\n",
       "    <tr>\n",
       "      <th>4</th>\n",
       "      <td>ME scores highest confidence and orders levels...</td>\n",
       "      <td>Economy</td>\n",
       "    </tr>\n",
       "    <tr>\n",
       "      <th>...</th>\n",
       "      <td>...</td>\n",
       "      <td>...</td>\n",
       "    </tr>\n",
       "    <tr>\n",
       "      <th>9995</th>\n",
       "      <td>BlackBerry unveils the Z30 as its new flagship...</td>\n",
       "      <td>Economy</td>\n",
       "    </tr>\n",
       "    <tr>\n",
       "      <th>9996</th>\n",
       "      <td>Egypt postpones decision on minimum wage\\n\\n\\n...</td>\n",
       "      <td>Economy</td>\n",
       "    </tr>\n",
       "    <tr>\n",
       "      <th>9997</th>\n",
       "      <td>Egypt's main bourse index slows down\\n\\n\\n\\nEg...</td>\n",
       "      <td>Economy</td>\n",
       "    </tr>\n",
       "    <tr>\n",
       "      <th>9998</th>\n",
       "      <td>Microsoft board boosts dividend by 22%\\n\\n\\n\\n...</td>\n",
       "      <td>Economy</td>\n",
       "    </tr>\n",
       "    <tr>\n",
       "      <th>9999</th>\n",
       "      <td>Ex-IMF chief Strauss-Kahn advises Serbian gove...</td>\n",
       "      <td>Economy</td>\n",
       "    </tr>\n",
       "  </tbody>\n",
       "</table>\n",
       "<p>10000 rows × 2 columns</p>\n",
       "</div>"
      ],
      "text/plain": [
       "                                          Article Title Category\n",
       "0     Egypt’s financial inclusion grows by 115% over...  Economy\n",
       "1     Egypt to restore wheat supply to local bakerie...  Economy\n",
       "2     Egypt's 2022/23 draft budget allocates EGP 356...  Economy\n",
       "3     S&P affirms Egypt’s long, short term credit ra...  Economy\n",
       "4     ME scores highest confidence and orders levels...  Economy\n",
       "...                                                 ...      ...\n",
       "9995  BlackBerry unveils the Z30 as its new flagship...  Economy\n",
       "9996  Egypt postpones decision on minimum wage\\n\\n\\n...  Economy\n",
       "9997  Egypt's main bourse index slows down\\n\\n\\n\\nEg...  Economy\n",
       "9998  Microsoft board boosts dividend by 22%\\n\\n\\n\\n...  Economy\n",
       "9999  Ex-IMF chief Strauss-Kahn advises Serbian gove...  Economy\n",
       "\n",
       "[10000 rows x 2 columns]"
      ]
     },
     "execution_count": 19,
     "metadata": {},
     "output_type": "execute_result"
    }
   ],
   "source": [
    "Articles_Scraper"
   ]
  },
  {
   "cell_type": "code",
   "execution_count": 20,
   "id": "07e147e4",
   "metadata": {},
   "outputs": [],
   "source": [
    "Articles_Scraper.to_csv('Economy.csv')"
   ]
  }
 ],
 "metadata": {
  "kernelspec": {
   "display_name": "Python 3 (ipykernel)",
   "language": "python",
   "name": "python3"
  },
  "language_info": {
   "codemirror_mode": {
    "name": "ipython",
    "version": 3
   },
   "file_extension": ".py",
   "mimetype": "text/x-python",
   "name": "python",
   "nbconvert_exporter": "python",
   "pygments_lexer": "ipython3",
   "version": "3.8.5"
  }
 },
 "nbformat": 4,
 "nbformat_minor": 5
}
